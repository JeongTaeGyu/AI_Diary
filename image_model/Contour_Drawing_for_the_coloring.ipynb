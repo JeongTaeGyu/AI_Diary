{
  "nbformat": 4,
  "nbformat_minor": 0,
  "metadata": {
    "colab": {
      "provenance": [],
      "authorship_tag": "ABX9TyPLYeaG5Dl5HbOTS36SCly8",
      "include_colab_link": true
    },
    "kernelspec": {
      "name": "python3",
      "display_name": "Python 3"
    },
    "language_info": {
      "name": "python"
    }
  },
  "cells": [
    {
      "cell_type": "markdown",
      "metadata": {
        "id": "view-in-github",
        "colab_type": "text"
      },
      "source": [
        "<a href=\"https://colab.research.google.com/github/sehuiB/AI_Diary/blob/main/Contour_Drawing_for_the_coloring.ipynb\" target=\"_parent\"><img src=\"https://colab.research.google.com/assets/colab-badge.svg\" alt=\"Open In Colab\"/></a>"
      ]
    },
    {
      "cell_type": "markdown",
      "source": [
        "로컬에 저장된 이미지를 넣는 방식"
      ],
      "metadata": {
        "id": "u8TE49VY-r9k"
      }
    },
    {
      "cell_type": "code",
      "execution_count": null,
      "metadata": {
        "id": "W-YJFVoj-Wk_"
      },
      "outputs": [],
      "source": [
        "import cv2\n",
        "import numpy as np\n",
        "from google.colab import files\n",
        "\n",
        "def generate_outline(image_path, output_path):\n",
        "    # 이미지 읽기\n",
        "    image = cv2.imread(image_path)\n",
        "    if image is None:\n",
        "        raise FileNotFoundError(f\"Image not found at {image_path}\")\n",
        "\n",
        "    # 이미지를 흑백처리\n",
        "    gray_image = cv2.cvtColor(image, cv2.COLOR_BGR2GRAY)\n",
        "\n",
        "    # 가우시안 블러- 노이즈 감소\n",
        "    blurred_image = cv2.GaussianBlur(gray_image, (5, 5), 0)\n",
        "\n",
        "    # Canny Edge Detection으로 선 검출\n",
        "    edges = cv2.Canny(blurred_image, threshold1=50, threshold2=150)\n",
        "\n",
        "    # 결과 이미지 반전 (배경을 흰색으로)\n",
        "    outline_image = cv2.bitwise_not(edges)\n",
        "\n",
        "    # 결과 저장\n",
        "    cv2.imwrite(output_path, outline_image)\n",
        "\n",
        "    # 구글 코랩에서 결과 다운로드 제공\n",
        "    files.download(output_path)\n",
        "\n",
        "# 경로 설정 및 함수 호출\n",
        "uploaded = files.upload()  # 사용자가 이미지를 업로드하도록 요청\n",
        "input_image_path = list(uploaded.keys())[0]  # 업로드한 이미지 파일 이름 가져오기\n",
        "output_image_path = '/content/drive/MyDrive/ddata/Sample/outline_image.png'  # 결과 이미지 저장 경로\n",
        "generate_outline(input_image_path, output_image_path)"
      ]
    },
    {
      "cell_type": "code",
      "source": [],
      "metadata": {
        "id": "VwvkVACP-ygB"
      },
      "execution_count": null,
      "outputs": []
    }
  ]
}
